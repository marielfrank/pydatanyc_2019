{
 "cells": [
  {
   "cell_type": "code",
   "execution_count": 1,
   "metadata": {},
   "outputs": [],
   "source": [
    "# via command line:\n",
    "# pip install -U spacy\n",
    "# python -m spacy download en_core_web_sm\n",
    "\n",
    "import spacy\n",
    "dependency_parser = spacy.load(\"en_core_web_sm\")"
   ]
  },
  {
   "cell_type": "code",
   "execution_count": 3,
   "metadata": {},
   "outputs": [],
   "source": [
    "my_sentence = \"We will add a new sentence here.\""
   ]
  },
  {
   "cell_type": "code",
   "execution_count": 5,
   "metadata": {
    "scrolled": false
   },
   "outputs": [
    {
     "name": "stdout",
     "output_type": "stream",
     "text": [
      "We PRP pronoun, personal\n",
      "will MD verb, modal auxiliary\n",
      "add VB verb, base form\n",
      "a DT determiner\n",
      "new JJ adjective\n",
      "sentence NN noun, singular or mass\n",
      "here RB adverb\n",
      ". . punctuation mark, sentence closer\n"
     ]
    }
   ],
   "source": [
    "# parse sentence using spacy\n",
    "parsed_sentence = dependency_parser(my_sentence)\n",
    "for word in parsed_sentence:\n",
    "   print(word.text, word.tag_, spacy.explain(word.tag_))"
   ]
  },
  {
   "cell_type": "code",
   "execution_count": 7,
   "metadata": {},
   "outputs": [],
   "source": [
    "# import function to convert parsed text to nltk tree\n",
    "from parsing_conversion import to_nltk_tree"
   ]
  },
  {
   "cell_type": "code",
   "execution_count": 22,
   "metadata": {
    "scrolled": true
   },
   "outputs": [
    {
     "name": "stdout",
     "output_type": "stream",
     "text": [
      "         add                      \n",
      "  ________|______________          \n",
      " |   |    |    |      sentence    \n",
      " |   |    |    |    _____|______   \n",
      " We will here  .   a           new\n",
      "\n"
     ]
    }
   ],
   "source": [
    "# slice up the tree by root proximity and print it all out\n",
    "for sent in parsed_sentence.sents:\n",
    "    to_nltk_tree(sent.root).pretty_print()"
   ]
  },
  {
   "cell_type": "code",
   "execution_count": null,
   "metadata": {},
   "outputs": [],
   "source": []
  }
 ],
 "metadata": {
  "kernelspec": {
   "display_name": "Python 3",
   "language": "python",
   "name": "python3"
  },
  "language_info": {
   "codemirror_mode": {
    "name": "ipython",
    "version": 3
   },
   "file_extension": ".py",
   "mimetype": "text/x-python",
   "name": "python",
   "nbconvert_exporter": "python",
   "pygments_lexer": "ipython3",
   "version": "3.6.8"
  }
 },
 "nbformat": 4,
 "nbformat_minor": 2
}
